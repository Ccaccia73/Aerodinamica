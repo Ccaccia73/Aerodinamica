{
 "cells": [
  {
   "cell_type": "code",
   "execution_count": 2,
   "metadata": {
    "collapsed": true
   },
   "outputs": [],
   "source": [
    "import sympy"
   ]
  },
  {
   "cell_type": "code",
   "execution_count": 3,
   "metadata": {
    "collapsed": true
   },
   "outputs": [],
   "source": [
    "sympy.init_printing()"
   ]
  },
  {
   "cell_type": "code",
   "execution_count": null,
   "metadata": {
    "collapsed": true
   },
   "outputs": [],
   "source": []
  },
  {
   "cell_type": "code",
   "execution_count": 4,
   "metadata": {
    "collapsed": true
   },
   "outputs": [],
   "source": [
    "c, x, y, θ, ξ, δ, α = sympy.symbols('c x y theta xi delta alpha') "
   ]
  },
  {
   "cell_type": "markdown",
   "metadata": {},
   "source": [
    "# Parabolic Airfoil"
   ]
  },
  {
   "cell_type": "code",
   "execution_count": 5,
   "metadata": {
    "collapsed": true
   },
   "outputs": [],
   "source": [
    "y1 = 4*δ*ξ/c*(1-ξ/c)"
   ]
  },
  {
   "cell_type": "code",
   "execution_count": 6,
   "metadata": {
    "collapsed": false
   },
   "outputs": [
    {
     "data": {
      "image/png": "[encoded data removed]",
      "text/latex": [
       "$$\\frac{4 \\delta}{c} \\xi \\left(1 - \\frac{\\xi}{c}\\right)$$"
      ],
      "text/plain": [
       "      ⎛    ξ⎞\n",
       "4⋅δ⋅ξ⋅⎜1 - ─⎟\n",
       "      ⎝    c⎠\n",
       "─────────────\n",
       "      c      "
      ]
     },
     "execution_count": 6,
     "metadata": {},
     "output_type": "execute_result"
    }
   ],
   "source": [
    "y1"
   ]
  },
  {
   "cell_type": "code",
   "execution_count": 7,
   "metadata": {
    "collapsed": true
   },
   "outputs": [],
   "source": [
    "yd1 = sympy.simplify(sympy.diff(y1,ξ))"
   ]
  },
  {
   "cell_type": "code",
   "execution_count": 8,
   "metadata": {
    "collapsed": false
   },
   "outputs": [
    {
     "data": {
      "image/png": "[encoded data removed]",
      "text/latex": [
       "$$\\frac{4 \\delta}{c^{2}} \\left(c - 2 \\xi\\right)$$"
      ],
      "text/plain": [
       "4⋅δ⋅(c - 2⋅ξ)\n",
       "─────────────\n",
       "       2     \n",
       "      c      "
      ]
     },
     "execution_count": 8,
     "metadata": {},
     "output_type": "execute_result"
    }
   ],
   "source": [
    "yd1"
   ]
  },
  {
   "cell_type": "code",
   "execution_count": 9,
   "metadata": {
    "collapsed": true
   },
   "outputs": [],
   "source": [
    "t1 = sympy.Function('t_1')(θ)\n",
    "\n",
    "t1 = c/2*(1-sympy.cos(θ))"
   ]
  },
  {
   "cell_type": "code",
   "execution_count": 10,
   "metadata": {
    "collapsed": true
   },
   "outputs": [],
   "source": [
    "y1t = sympy.simplify(y1.subs(ξ,t1))\n",
    "yd1t = sympy.simplify(yd1.subs(ξ,t1))"
   ]
  },
  {
   "cell_type": "code",
   "execution_count": null,
   "metadata": {
    "collapsed": true
   },
   "outputs": [],
   "source": []
  },
  {
   "cell_type": "code",
   "execution_count": 11,
   "metadata": {
    "collapsed": true
   },
   "outputs": [],
   "source": [
    "A0 = α - 1/sympy.pi * sympy.integrate(yd1t,(θ,0,sympy.pi))"
   ]
  },
  {
   "cell_type": "code",
   "execution_count": 12,
   "metadata": {
    "collapsed": false
   },
   "outputs": [
    {
     "data": {
      "image/png": "[encoded data removed]",
      "text/latex": [
       "$$\\alpha$$"
      ],
      "text/plain": [
       "α"
      ]
     },
     "execution_count": 12,
     "metadata": {},
     "output_type": "execute_result"
    }
   ],
   "source": [
    "A0"
   ]
  },
  {
   "cell_type": "code",
   "execution_count": 13,
   "metadata": {
    "collapsed": true
   },
   "outputs": [],
   "source": [
    "n = sympy.symbols('n', integer=True, positive=True)"
   ]
  },
  {
   "cell_type": "code",
   "execution_count": 14,
   "metadata": {
    "collapsed": true
   },
   "outputs": [],
   "source": [
    "An = sympy.simplify(2/sympy.pi * sympy.integrate(yd1t*sympy.cos(n*θ),(θ,0,sympy.pi)))"
   ]
  },
  {
   "cell_type": "code",
   "execution_count": 15,
   "metadata": {
    "collapsed": false
   },
   "outputs": [
    {
     "data": {
      "image/png": "[encoded data removed]",
      "text/latex": [
       "$$\\begin{cases} \\frac{4 \\delta}{c} & \\text{for}\\: n = 1 \\\\0 & \\text{otherwise} \\end{cases}$$"
      ],
      "text/plain": [
       "⎧4⋅δ           \n",
       "⎪───  for n = 1\n",
       "⎨ c            \n",
       "⎪              \n",
       "⎩ 0   otherwise"
      ]
     },
     "execution_count": 15,
     "metadata": {},
     "output_type": "execute_result"
    }
   ],
   "source": [
    "An"
   ]
  },
  {
   "cell_type": "markdown",
   "metadata": {},
   "source": [
    "# Flat plate with slat and flap"
   ]
  },
  {
   "cell_type": "code",
   "execution_count": 16,
   "metadata": {
    "collapsed": true
   },
   "outputs": [],
   "source": [
    "η1, η2, ξ_le, ξ_te, θ_le, θ_te = sympy.symbols('eta_1 eta_2 xi_le xi_te theta_le theta_te')"
   ]
  },
  {
   "cell_type": "code",
   "execution_count": 17,
   "metadata": {
    "collapsed": true
   },
   "outputs": [],
   "source": [
    "y2 = sympy.Piecewise((η1*(ξ-ξ_le), ξ<=ξ_le ),(0, ξ<=ξ_te),( η2*(ξ-ξ_te),ξ<=c))"
   ]
  },
  {
   "cell_type": "code",
   "execution_count": 18,
   "metadata": {
    "collapsed": false
   },
   "outputs": [
    {
     "data": {
      "image/png": "[encoded data removed]",
      "text/latex": [
       "$$\\begin{cases} \\eta_{1} \\left(\\xi - \\xi_{le}\\right) & \\text{for}\\: \\xi \\leq \\xi_{le} \\\\0 & \\text{for}\\: \\xi \\leq \\xi_{te} \\\\\\eta_{2} \\left(\\xi - \\xi_{te}\\right) & \\text{for}\\: \\xi \\leq c \\end{cases}$$"
      ],
      "text/plain": [
       "⎧η₁⋅(ξ - ξₗₑ)  for ξ ≤ ξₗₑ\n",
       "⎪                         \n",
       "⎨     0        for ξ ≤ ξₜₑ\n",
       "⎪                         \n",
       "⎩η₂⋅(ξ - ξₜₑ)   for ξ ≤ c "
      ]
     },
     "execution_count": 18,
     "metadata": {},
     "output_type": "execute_result"
    }
   ],
   "source": [
    "y2"
   ]
  },
  {
   "cell_type": "code",
   "execution_count": 19,
   "metadata": {
    "collapsed": true
   },
   "outputs": [],
   "source": [
    "yd2 = sympy.diff(y2,ξ)"
   ]
  },
  {
   "cell_type": "code",
   "execution_count": 20,
   "metadata": {
    "collapsed": false
   },
   "outputs": [
    {
     "data": {
      "image/png": "[encoded data removed]",
      "text/latex": [
       "$$\\begin{cases} \\eta_{1} & \\text{for}\\: \\xi \\leq \\xi_{le} \\\\0 & \\text{for}\\: \\xi \\leq \\xi_{te} \\\\\\eta_{2} & \\text{for}\\: \\xi \\leq c \\end{cases}$$"
      ],
      "text/plain": [
       "⎧η₁  for ξ ≤ ξₗₑ\n",
       "⎪               \n",
       "⎨0   for ξ ≤ ξₜₑ\n",
       "⎪               \n",
       "⎩η₂   for ξ ≤ c "
      ]
     },
     "execution_count": 20,
     "metadata": {},
     "output_type": "execute_result"
    }
   ],
   "source": [
    "yd2"
   ]
  },
  {
   "cell_type": "code",
   "execution_count": 21,
   "metadata": {
    "collapsed": true
   },
   "outputs": [],
   "source": [
    "y2t = sympy.simplify(y2.subs([(ξ,t1),(ξ_le,t1.subs(θ,θ_le)),(ξ_te,t1.subs(θ,θ_te))]))\n",
    "#yd2t = sympy.simplify(yd2.subs([(ξ,t1),(ξ_le,t1.subs(θ,θ_le)),(ξ_te,t1.subs(θ,θ_te))]))\n",
    "\n",
    "q1 = 0.1\n",
    "q2 = 0.8\n",
    "\n",
    "yd2t = sympy.Piecewise((η1, θ<q1*sympy.pi ),(0, θ<=q2*sympy.pi),( η2, θ<=sympy.pi))"
   ]
  },
  {
   "cell_type": "code",
   "execution_count": 22,
   "metadata": {
    "collapsed": false
   },
   "outputs": [
    {
     "data": {
      "image/png": "[encoded data removed]",
      "text/latex": [
       "$$\\begin{cases} \\frac{c \\eta_{1}}{2} \\left(- \\cos{\\left (\\theta \\right )} + \\cos{\\left (\\theta_{le} \\right )}\\right) & \\text{for}\\: \\frac{c}{2} \\left(- \\cos{\\left (\\theta \\right )} + 1\\right) \\leq \\frac{c}{2} \\left(- \\cos{\\left (\\theta_{le} \\right )} + 1\\right) \\\\0 & \\text{for}\\: \\frac{c}{2} \\left(- \\cos{\\left (\\theta \\right )} + 1\\right) \\leq \\frac{c}{2} \\left(- \\cos{\\left (\\theta_{te} \\right )} + 1\\right) \\\\\\frac{c \\eta_{2}}{2} \\left(- \\cos{\\left (\\theta \\right )} + \\cos{\\left (\\theta_{te} \\right )}\\right) & \\text{for}\\: c \\geq \\frac{c}{2} \\left(- \\cos{\\left (\\theta \\right )} + 1\\right) \\end{cases}$$"
      ],
      "text/plain": [
       "⎧c⋅η₁⋅(-cos(θ) + cos(θₗₑ))      c⋅(-cos(θ) + 1)   c⋅(-cos(θₗₑ) + 1)\n",
       "⎪─────────────────────────  for ─────────────── ≤ ─────────────────\n",
       "⎪            2                         2                  2        \n",
       "⎪                                                                  \n",
       "⎪                               c⋅(-cos(θ) + 1)   c⋅(-cos(θₜₑ) + 1)\n",
       "⎨            0              for ─────────────── ≤ ─────────────────\n",
       "⎪                                      2                  2        \n",
       "⎪                                                                  \n",
       "⎪c⋅η₂⋅(-cos(θ) + cos(θₜₑ))                  c⋅(-cos(θ) + 1)        \n",
       "⎪─────────────────────────          for c ≥ ───────────────        \n",
       "⎩            2                                     2               "
      ]
     },
     "execution_count": 22,
     "metadata": {},
     "output_type": "execute_result"
    }
   ],
   "source": [
    "y2t"
   ]
  },
  {
   "cell_type": "code",
   "execution_count": 23,
   "metadata": {
    "collapsed": false
   },
   "outputs": [
    {
     "data": {
      "image/png": "[encoded data removed]",
      "text/latex": [
       "$$\\begin{cases} \\eta_{1} & \\text{for}\\: \\theta < 0.1 \\pi \\\\0 & \\text{for}\\: \\theta \\leq 0.8 \\pi \\\\\\eta_{2} & \\text{for}\\: \\theta \\leq \\pi \\end{cases}$$"
      ],
      "text/plain": [
       "⎧η₁  for θ < 0.1⋅π\n",
       "⎪                 \n",
       "⎨0   for θ ≤ 0.8⋅π\n",
       "⎪                 \n",
       "⎩η₂    for θ ≤ π  "
      ]
     },
     "execution_count": 23,
     "metadata": {},
     "output_type": "execute_result"
    }
   ],
   "source": [
    "yd2t"
   ]
  },
  {
   "cell_type": "code",
   "execution_count": 24,
   "metadata": {
    "collapsed": true
   },
   "outputs": [],
   "source": [
    "A0_2 = α - 1/sympy.pi * sympy.integrate(yd2t,(θ,0,sympy.pi))"
   ]
  },
  {
   "cell_type": "code",
   "execution_count": 25,
   "metadata": {
    "collapsed": false
   },
   "outputs": [
    {
     "data": {
      "image/png": "[encoded data removed]",
      "text/latex": [
       "$$\\alpha - \\frac{1}{\\pi} \\left(0.1 \\pi \\eta_{1} + 0.2 \\pi \\eta_{2}\\right)$$"
      ],
      "text/plain": [
       "    0.1⋅π⋅η₁ + 0.2⋅π⋅η₂\n",
       "α - ───────────────────\n",
       "             π         "
      ]
     },
     "execution_count": 25,
     "metadata": {},
     "output_type": "execute_result"
    }
   ],
   "source": [
    "A0_2"
   ]
  },
  {
   "cell_type": "code",
   "execution_count": 26,
   "metadata": {
    "collapsed": true
   },
   "outputs": [],
   "source": [
    "An_2 = sympy.simplify(2/sympy.pi * sympy.integrate(yd2t*sympy.cos(n*θ),(θ,0,sympy.pi)))"
   ]
  },
  {
   "cell_type": "code",
   "execution_count": 27,
   "metadata": {
    "collapsed": false
   },
   "outputs": [
    {
     "data": {
      "image/png": "[encoded data removed]",
      "text/latex": [
       "$$\\frac{2}{\\pi n} \\left(\\eta_{1} \\sin{\\left (0.1 \\pi n \\right )} - \\eta_{2} \\sin{\\left (0.8 \\pi n \\right )}\\right)$$"
      ],
      "text/plain": [
       "2⋅(η₁⋅sin(0.1⋅π⋅n) - η₂⋅sin(0.8⋅π⋅n))\n",
       "─────────────────────────────────────\n",
       "                 π⋅n                 "
      ]
     },
     "execution_count": 27,
     "metadata": {},
     "output_type": "execute_result"
    }
   ],
   "source": [
    "An_2"
   ]
  },
  {
   "cell_type": "markdown",
   "metadata": {},
   "source": [
    "# NACA 4 digits"
   ]
  },
  {
   "cell_type": "code",
   "execution_count": 37,
   "metadata": {
    "collapsed": true
   },
   "outputs": [],
   "source": [
    "m, p, θ1 = sympy.symbols('m p theta_1')"
   ]
  },
  {
   "cell_type": "code",
   "execution_count": 29,
   "metadata": {
    "collapsed": true
   },
   "outputs": [],
   "source": [
    "# NACA 24XX\n",
    "\n",
    "#m = 0.02\n",
    "p1 = 0.4\n",
    "\n",
    "θs = sympy.acos(1-2*p1)"
   ]
  },
  {
   "cell_type": "code",
   "execution_count": 30,
   "metadata": {
    "collapsed": true
   },
   "outputs": [],
   "source": [
    "yd3 = sympy.Piecewise((2*m/p**2*(p-(1-sympy.cos(θ))/2 ),θ<=θs),( 2*m/(1-p**2)*(p-(1-sympy.cos(θ))/2 ),θ<=sympy.pi ))"
   ]
  },
  {
   "cell_type": "code",
   "execution_count": 31,
   "metadata": {
    "collapsed": false
   },
   "outputs": [
    {
     "data": {
      "image/png": "[encoded data removed]",
      "text/latex": [
       "$$\\begin{cases} \\frac{2 m}{p^{2}} \\left(p + \\frac{1}{2} \\cos{\\left (\\theta \\right )} - \\frac{1}{2}\\right) & \\text{for}\\: \\theta \\leq 1.36943840600457 \\\\\\frac{2 m}{- p^{2} + 1} \\left(p + \\frac{1}{2} \\cos{\\left (\\theta \\right )} - \\frac{1}{2}\\right) & \\text{for}\\: \\theta \\leq \\pi \\end{cases}$$"
      ],
      "text/plain": [
       "⎧    ⎛    cos(θ)   1⎞                          \n",
       "⎪2⋅m⋅⎜p + ────── - ─⎟                          \n",
       "⎪    ⎝      2      2⎠                          \n",
       "⎪────────────────────  for θ ≤ 1.36943840600457\n",
       "⎪          2                                   \n",
       "⎪         p                                    \n",
       "⎨                                              \n",
       "⎪    ⎛    cos(θ)   1⎞                          \n",
       "⎪2⋅m⋅⎜p + ────── - ─⎟                          \n",
       "⎪    ⎝      2      2⎠                          \n",
       "⎪────────────────────         for θ ≤ π        \n",
       "⎪         2                                    \n",
       "⎩      - p  + 1                                "
      ]
     },
     "execution_count": 31,
     "metadata": {},
     "output_type": "execute_result"
    }
   ],
   "source": [
    "yd3"
   ]
  },
  {
   "cell_type": "code",
   "execution_count": 32,
   "metadata": {
    "collapsed": true
   },
   "outputs": [],
   "source": [
    "A0_3 = α - sympy.simplify(1/sympy.pi * sympy.integrate(yd3,(θ,0,sympy.pi)))"
   ]
  },
  {
   "cell_type": "code",
   "execution_count": 33,
   "metadata": {
    "collapsed": false
   },
   "outputs": [
    {
     "data": {
      "image/png": "[encoded data removed]",
      "text/latex": [
       "$$\\alpha - \\frac{m}{\\pi p^{2} \\left(p^{2} - 1\\right)} \\left(p^{2} \\left(2.73887681200913 p - \\pi \\left(2 p - 1\\right) - 0.389642508891295\\right) + 2 \\left(1.36943840600457 p - 0.194821254445647\\right) \\left(p^{2} - 1\\right)\\right)$$"
      ],
      "text/plain": [
       "      ⎛ 2                                                                     \n",
       "    m⋅⎝p ⋅(2.73887681200913⋅p - π⋅(2⋅p - 1) - 0.389642508891295) + 2⋅(1.369438\n",
       "α - ──────────────────────────────────────────────────────────────────────────\n",
       "                                                          2 ⎛ 2    ⎞          \n",
       "                                                       π⋅p ⋅⎝p  - 1⎠          \n",
       "\n",
       "                                ⎛ 2    ⎞⎞\n",
       "40600457⋅p - 0.194821254445647)⋅⎝p  - 1⎠⎠\n",
       "─────────────────────────────────────────\n",
       "                                         \n",
       "                                         "
      ]
     },
     "execution_count": 33,
     "metadata": {},
     "output_type": "execute_result"
    }
   ],
   "source": [
    "A0_3"
   ]
  },
  {
   "cell_type": "code",
   "execution_count": 34,
   "metadata": {
    "collapsed": true
   },
   "outputs": [],
   "source": [
    "An_3 = sympy.simplify(2/sympy.pi * sympy.integrate(yd3*sympy.cos(n*θ),(θ,0,sympy.pi)))"
   ]
  },
  {
   "cell_type": "code",
   "execution_count": 35,
   "metadata": {
    "collapsed": false
   },
   "outputs": [
    {
     "data": {
      "image/png": "[encoded data removed]",
      "text/latex": [
       "$$\\begin{cases} \\frac{4 m}{\\pi \\left(p^{2} - 1\\right)} \\left(1.95959179422654 p - \\frac{\\pi}{4} - 0.197097104399661 - \\frac{1}{p^{2}} \\left(0.979795897113271 p - 0.0985485521998306\\right)\\right) & \\text{for}\\: n = 1 \\\\\\frac{4 m}{\\pi \\left(n^{2} - 1\\right) \\left(p^{2} - 1\\right)} \\left(2.0 n p \\sin{\\left (1.36943840600457 n \\right )} - 0.8 n \\sin{\\left (1.36943840600457 n \\right )} - \\frac{1.0 n}{p} \\sin{\\left (1.36943840600457 n \\right )} + \\frac{0.4 n}{p^{2}} \\sin{\\left (1.36943840600457 n \\right )} - 0.979795897113271 \\cos{\\left (1.36943840600457 n \\right )} + \\frac{0.489897948556636}{p^{2}} \\cos{\\left (1.36943840600457 n \\right )} - \\frac{2.0 p}{n} \\sin{\\left (1.36943840600457 n \\right )} + \\frac{1.0}{n} \\sin{\\left (1.36943840600457 n \\right )} + \\frac{1.0}{n p} \\sin{\\left (1.36943840600457 n \\right )} - \\frac{0.5}{n p^{2}} \\sin{\\left (1.36943840600457 n \\right )}\\right) & \\text{otherwise} \\end{cases}$$"
      ],
      "text/plain": [
       "⎧                                                                             \n",
       "⎪                                                                             \n",
       "⎪                                                                             \n",
       "⎪                                                                             \n",
       "⎪                                                                             \n",
       "⎪                                                                             \n",
       "⎪                                                                             \n",
       "⎨                                                                             \n",
       "⎪    ⎛                                                                  1.0⋅n⋅\n",
       "⎪4⋅m⋅⎜2.0⋅n⋅p⋅sin(1.36943840600457⋅n) - 0.8⋅n⋅sin(1.36943840600457⋅n) - ──────\n",
       "⎪    ⎜                                                                        \n",
       "⎪    ⎝                                                                        \n",
       "⎪─────────────────────────────────────────────────────────────────────────────\n",
       "⎪                                                                             \n",
       "⎩                                                                             \n",
       "\n",
       "                                                     ⎛                     π  \n",
       "                                                 4⋅m⋅⎜1.95959179422654⋅p - ─ -\n",
       "                                                     ⎜                     4  \n",
       "                                                     ⎝                        \n",
       "                                                 ─────────────────────────────\n",
       "                                                                              \n",
       "                                                                              \n",
       "                                                                              \n",
       "sin(1.36943840600457⋅n)   0.4⋅n⋅sin(1.36943840600457⋅n)                       \n",
       "─────────────────────── + ───────────────────────────── - 0.979795897113271⋅co\n",
       "        p                                2                                    \n",
       "                                        p                                     \n",
       "──────────────────────────────────────────────────────────────────────────────\n",
       "                                                                              \n",
       "                                                                              \n",
       "\n",
       "                     0.979795897113271⋅p - 0.0985485521998306⎞                \n",
       " 0.197097104399661 - ────────────────────────────────────────⎟                \n",
       "                                         2                   ⎟                \n",
       "                                        p                    ⎠                \n",
       "──────────────────────────────────────────────────────────────                \n",
       "              ⎛ 2    ⎞                                                        \n",
       "            π⋅⎝p  - 1⎠                                                        \n",
       "                                                                              \n",
       "                        0.489897948556636⋅cos(1.36943840600457⋅n)   2.0⋅p⋅sin(\n",
       "s(1.36943840600457⋅n) + ───────────────────────────────────────── - ──────────\n",
       "                                             2                                \n",
       "                                            p                                 \n",
       "──────────────────────────────────────────────────────────────────────────────\n",
       "         ⎛ 2    ⎞ ⎛ 2    ⎞                                                    \n",
       "       π⋅⎝n  - 1⎠⋅⎝p  - 1⎠                                                    \n",
       "\n",
       "                                                                              \n",
       "                                                                              \n",
       "                                                                              \n",
       "                                                                              \n",
       "                                                                              \n",
       "                                                                              \n",
       "                                                                              \n",
       "                                                                              \n",
       "1.36943840600457⋅n)   1.0⋅sin(1.36943840600457⋅n)   1.0⋅sin(1.36943840600457⋅n\n",
       "─────────────────── + ─────────────────────────── + ──────────────────────────\n",
       "    n                              n                            n⋅p           \n",
       "                                                                              \n",
       "──────────────────────────────────────────────────────────────────────────────\n",
       "                                                                              \n",
       "                                                                              \n",
       "\n",
       "                                           \n",
       "                                           \n",
       "                                           \n",
       "                                           \n",
       "                                  for n = 1\n",
       "                                           \n",
       "                                           \n",
       "                                           \n",
       ")   0.5⋅sin(1.36943840600457⋅n)⎞           \n",
       "─ - ───────────────────────────⎟           \n",
       "                   2           ⎟           \n",
       "                n⋅p            ⎠           \n",
       "────────────────────────────────  otherwise\n",
       "                                           \n",
       "                                           "
      ]
     },
     "execution_count": 35,
     "metadata": {},
     "output_type": "execute_result"
    }
   ],
   "source": [
    "An_3"
   ]
  },
  {
   "cell_type": "code",
   "execution_count": null,
   "metadata": {
    "collapsed": true
   },
   "outputs": [],
   "source": []
  },
  {
   "cell_type": "code",
   "execution_count": 36,
   "metadata": {
    "collapsed": false
   },
   "outputs": [],
   "source": [
    "yd3a = 2*m/p**2*(p-(1-sympy.cos(θ))/2)\n",
    "\n",
    "yd3b = 2*m/(1-p**2)*(p-(1-sympy.cos(θ))/2)                "
   ]
  },
  {
   "cell_type": "code",
   "execution_count": 42,
   "metadata": {
    "collapsed": false
   },
   "outputs": [],
   "source": [
    "A0_3ab = α-sympy.simplify(1/sympy.pi*(sympy.integrate(yd3a,(θ,0,θ1)) + sympy.integrate(yd3b,(θ,θ1,sympy.pi))))"
   ]
  },
  {
   "cell_type": "code",
   "execution_count": 43,
   "metadata": {
    "collapsed": false
   },
   "outputs": [
    {
     "data": {
      "image/png": "[encoded data removed]",
      "text/latex": [
       "$$\\alpha - \\frac{m}{\\pi p^{2} \\left(p^{2} - 1\\right)} \\left(p^{2} \\left(2 p \\theta_{1} - 2 \\pi p - \\theta_{1} + \\sin{\\left (\\theta_{1} \\right )} + \\pi\\right) + \\left(p^{2} - 1\\right) \\left(2 p \\theta_{1} - \\theta_{1} + \\sin{\\left (\\theta_{1} \\right )}\\right)\\right)$$"
      ],
      "text/plain": [
       "      ⎛ 2                                       ⎛ 2    ⎞                      \n",
       "    m⋅⎝p ⋅(2⋅p⋅θ₁ - 2⋅π⋅p - θ₁ + sin(θ₁) + π) + ⎝p  - 1⎠⋅(2⋅p⋅θ₁ - θ₁ + sin(θ₁\n",
       "α - ──────────────────────────────────────────────────────────────────────────\n",
       "                                       2 ⎛ 2    ⎞                             \n",
       "                                    π⋅p ⋅⎝p  - 1⎠                             \n",
       "\n",
       "  ⎞\n",
       "))⎠\n",
       "───\n",
       "   \n",
       "   "
      ]
     },
     "execution_count": 43,
     "metadata": {},
     "output_type": "execute_result"
    }
   ],
   "source": [
    "A0_3ab"
   ]
  },
  {
   "cell_type": "code",
   "execution_count": 44,
   "metadata": {
    "collapsed": true
   },
   "outputs": [],
   "source": [
    "An_3ab = sympy.simplify(2/sympy.pi * ( sympy.integrate(yd3a*sympy.cos(n*θ),(θ,0,θ1)) + \n",
    "                                       sympy.integrate(yd3b*sympy.cos(n*θ),(θ,θ1,sympy.pi)) ) )"
   ]
  },
  {
   "cell_type": "code",
   "execution_count": 45,
   "metadata": {
    "collapsed": false
   },
   "outputs": [
    {
     "data": {
      "image/png": "[encoded data removed]",
      "text/latex": [
       "$$\\begin{cases} \\frac{4 m}{\\pi \\left(p^{2} - 1\\right)} \\left(2 p \\sin{\\left (\\theta_{1} \\right )} + \\frac{\\theta_{1}}{2} - \\sin{\\left (\\theta_{1} \\right )} + \\frac{1}{4} \\sin{\\left (2 \\theta_{1} \\right )} - \\frac{\\pi}{4} - \\frac{1}{p} \\sin{\\left (\\theta_{1} \\right )} - \\frac{\\theta_{1}}{4 p^{2}} + \\frac{\\sin{\\left (\\theta_{1} \\right )}}{2 p^{2}} - \\frac{1}{8 p^{2}} \\sin{\\left (2 \\theta_{1} \\right )}\\right) & \\text{for}\\: n = 1 \\\\\\frac{4 m}{\\pi \\left(n^{2} - 1\\right) \\left(p^{2} - 1\\right)} \\left(2 n p \\sin{\\left (n \\theta_{1} \\right )} + n \\sin{\\left (n \\theta_{1} \\right )} \\cos{\\left (\\theta_{1} \\right )} - n \\sin{\\left (n \\theta_{1} \\right )} - \\frac{n}{p} \\sin{\\left (n \\theta_{1} \\right )} - \\frac{n}{2 p^{2}} \\sin{\\left (n \\theta_{1} \\right )} \\cos{\\left (\\theta_{1} \\right )} + \\frac{n}{2 p^{2}} \\sin{\\left (n \\theta_{1} \\right )} - \\sin{\\left (\\theta_{1} \\right )} \\cos{\\left (n \\theta_{1} \\right )} + \\frac{\\sin{\\left (\\theta_{1} \\right )}}{2 p^{2}} \\cos{\\left (n \\theta_{1} \\right )} - \\frac{2 p}{n} \\sin{\\left (n \\theta_{1} \\right )} + \\frac{1}{n} \\sin{\\left (n \\theta_{1} \\right )} + \\frac{1}{n p} \\sin{\\left (n \\theta_{1} \\right )} - \\frac{\\sin{\\left (n \\theta_{1} \\right )}}{2 n p^{2}}\\right) & \\text{otherwise} \\end{cases}$$"
      ],
      "text/plain": [
       "⎧                                                            ⎛              θ₁\n",
       "⎪                                                        4⋅m⋅⎜2⋅p⋅sin(θ₁) + ──\n",
       "⎪                                                            ⎜              2 \n",
       "⎪                                                            ⎝                \n",
       "⎪                                                        ─────────────────────\n",
       "⎪                                                                             \n",
       "⎪                                                                             \n",
       "⎨                                                                             \n",
       "⎪    ⎛                                                      n⋅sin(n⋅θ₁)   n⋅si\n",
       "⎪4⋅m⋅⎜2⋅n⋅p⋅sin(n⋅θ₁) + n⋅sin(n⋅θ₁)⋅cos(θ₁) - n⋅sin(n⋅θ₁) - ─────────── - ────\n",
       "⎪    ⎜                                                           p            \n",
       "⎪    ⎝                                                                        \n",
       "⎪─────────────────────────────────────────────────────────────────────────────\n",
       "⎪                                                                             \n",
       "⎩                                                                             \n",
       "\n",
       "             sin(2⋅θ₁)   π   sin(θ₁)    θ₁    sin(θ₁)   sin(2⋅θ₁)⎞            \n",
       " - sin(θ₁) + ───────── - ─ - ─────── - ──── + ─────── - ─────────⎟            \n",
       "                 4       4      p         2        2          2  ⎟            \n",
       "                                       4⋅p      2⋅p        8⋅p   ⎠            \n",
       "──────────────────────────────────────────────────────────────────            \n",
       "                    ⎛ 2    ⎞                                                  \n",
       "                  π⋅⎝p  - 1⎠                                                  \n",
       "                                                                              \n",
       "n(n⋅θ₁)⋅cos(θ₁)   n⋅sin(n⋅θ₁)                       sin(θ₁)⋅cos(n⋅θ₁)   2⋅p⋅si\n",
       "─────────────── + ─────────── - sin(θ₁)⋅cos(n⋅θ₁) + ───────────────── - ──────\n",
       "       2                 2                                    2               \n",
       "    2⋅p               2⋅p                                  2⋅p                \n",
       "──────────────────────────────────────────────────────────────────────────────\n",
       "               ⎛ 2    ⎞ ⎛ 2    ⎞                                              \n",
       "             π⋅⎝n  - 1⎠⋅⎝p  - 1⎠                                              \n",
       "\n",
       "                                                       \n",
       "                                                       \n",
       "                                                       \n",
       "                                                       \n",
       "                                              for n = 1\n",
       "                                                       \n",
       "                                                       \n",
       "                                                       \n",
       "n(n⋅θ₁)   sin(n⋅θ₁)   sin(n⋅θ₁)   sin(n⋅θ₁)⎞           \n",
       "─────── + ───────── + ───────── - ─────────⎟           \n",
       "n             n          n⋅p             2 ⎟           \n",
       "                                    2⋅n⋅p  ⎠           \n",
       "────────────────────────────────────────────  otherwise\n",
       "                                                       \n",
       "                                                       "
      ]
     },
     "execution_count": 45,
     "metadata": {},
     "output_type": "execute_result"
    }
   ],
   "source": [
    "An_3ab"
   ]
  },
  {
   "cell_type": "code",
   "execution_count": null,
   "metadata": {
    "collapsed": true
   },
   "outputs": [],
   "source": []
  },
  {
   "cell_type": "code",
   "execution_count": 46,
   "metadata": {
    "collapsed": true
   },
   "outputs": [],
   "source": [
    "A0_3ab_p = α-sympy.simplify(1/sympy.pi*(sympy.integrate(yd3a,(θ,0,sympy.acos(1-p/5))) \n",
    "                                      + sympy.integrate(yd3b,(θ,sympy.acos(1-p/5),sympy.pi))))"
   ]
  },
  {
   "cell_type": "code",
   "execution_count": 47,
   "metadata": {
    "collapsed": false
   },
   "outputs": [
    {
     "data": {
      "image/png": "[encoded data removed]",
      "text/latex": [
       "$$\\alpha - \\frac{m}{5 \\pi p^{2} \\left(p^{2} - 1\\right)} \\left(- 5 \\pi p^{2} \\left(2 p - 1\\right) + p^{2} \\left(10 p \\operatorname{acos}{\\left (- \\frac{p}{5} + 1 \\right )} + \\sqrt{- \\left(- p + 5\\right)^{2} + 25} - 5 \\operatorname{acos}{\\left (- \\frac{p}{5} + 1 \\right )}\\right) + \\left(p^{2} - 1\\right) \\left(10 p \\operatorname{acos}{\\left (- \\frac{p}{5} + 1 \\right )} + \\sqrt{- \\left(- p + 5\\right)^{2} + 25} - 5 \\operatorname{acos}{\\left (- \\frac{p}{5} + 1 \\right )}\\right)\\right)$$"
      ],
      "text/plain": [
       "      ⎛                        ⎛                        __________________    \n",
       "      ⎜       2              2 ⎜         ⎛  p    ⎞     ╱           2          \n",
       "    m⋅⎜- 5⋅π⋅p ⋅(2⋅p - 1) + p ⋅⎜10⋅p⋅acos⎜- ─ + 1⎟ + ╲╱  - (-p + 5)  + 25  - 5\n",
       "      ⎝                        ⎝         ⎝  5    ⎠                            \n",
       "α - ──────────────────────────────────────────────────────────────────────────\n",
       "                                                                              \n",
       "                                                                              \n",
       "\n",
       "              ⎞            ⎛                        __________________        \n",
       "     ⎛  p    ⎞⎟   ⎛ 2    ⎞ ⎜         ⎛  p    ⎞     ╱           2              \n",
       "⋅acos⎜- ─ + 1⎟⎟ + ⎝p  - 1⎠⋅⎜10⋅p⋅acos⎜- ─ + 1⎟ + ╲╱  - (-p + 5)  + 25  - 5⋅aco\n",
       "     ⎝  5    ⎠⎠            ⎝         ⎝  5    ⎠                                \n",
       "──────────────────────────────────────────────────────────────────────────────\n",
       "     2 ⎛ 2    ⎞                                                               \n",
       "5⋅π⋅p ⋅⎝p  - 1⎠                                                               \n",
       "\n",
       "          ⎞⎞\n",
       " ⎛  p    ⎞⎟⎟\n",
       "s⎜- ─ + 1⎟⎟⎟\n",
       " ⎝  5    ⎠⎠⎠\n",
       "────────────\n",
       "            \n",
       "            "
      ]
     },
     "execution_count": 47,
     "metadata": {},
     "output_type": "execute_result"
    }
   ],
   "source": [
    "A0_3ab_p"
   ]
  },
  {
   "cell_type": "code",
   "execution_count": 48,
   "metadata": {
    "collapsed": true
   },
   "outputs": [],
   "source": [
    "An_3ab_p = sympy.simplify(2/sympy.pi * ( sympy.integrate(yd3a*sympy.cos(n*θ),(θ,0,sympy.acos(1-p/5))) + \n",
    "                                       sympy.integrate(yd3b*sympy.cos(n*θ),(θ,sympy.acos(1-p/5),sympy.pi)) ) )"
   ]
  },
  {
   "cell_type": "code",
   "execution_count": null,
   "metadata": {
    "collapsed": true
   },
   "outputs": [],
   "source": []
  },
  {
   "cell_type": "code",
   "execution_count": 49,
   "metadata": {
    "collapsed": false
   },
   "outputs": [
    {
     "data": {
      "image/png": "[encoded data removed]",
      "text/latex": [
       "$$\\begin{cases} \\frac{m}{25 \\pi p^{2} \\left(p^{2} - 1\\right)} \\left(2 p^{2} \\left(19 p \\sqrt{p \\left(- p + 10\\right)} - 5 \\sqrt{p \\left(- p + 10\\right)} + 25 \\operatorname{acos}{\\left (- \\frac{p}{5} + 1 \\right )}\\right) - 25 \\pi p^{2} - 19 p \\sqrt{p \\left(- p + 10\\right)} + 5 \\sqrt{p \\left(- p + 10\\right)} - 25 \\operatorname{acos}{\\left (- \\frac{p}{5} + 1 \\right )}\\right) & \\text{for}\\: n = 1 \\\\\\frac{4 m}{\\pi p^{2} \\left(n^{2} - 1\\right) \\left(p^{2} - 1\\right)} \\left(\\frac{9 n}{5} p^{3} \\sin{\\left (n \\operatorname{acos}{\\left (- \\frac{p}{5} + 1 \\right )} \\right )} - \\frac{9 p}{10} n \\sin{\\left (n \\operatorname{acos}{\\left (- \\frac{p}{5} + 1 \\right )} \\right )} - \\frac{p^{2}}{5} \\sqrt{p \\left(- p + 10\\right)} \\cos{\\left (n \\operatorname{acos}{\\left (- \\frac{p}{5} + 1 \\right )} \\right )} + \\frac{1}{10} \\sqrt{p \\left(- p + 10\\right)} \\cos{\\left (n \\operatorname{acos}{\\left (- \\frac{p}{5} + 1 \\right )} \\right )} - \\frac{2 p^{3}}{n} \\sin{\\left (n \\operatorname{acos}{\\left (- \\frac{p}{5} + 1 \\right )} \\right )} + \\frac{p^{2}}{n} \\sin{\\left (n \\operatorname{acos}{\\left (- \\frac{p}{5} + 1 \\right )} \\right )} + \\frac{p}{n} \\sin{\\left (n \\operatorname{acos}{\\left (- \\frac{p}{5} + 1 \\right )} \\right )} - \\frac{1}{2 n} \\sin{\\left (n \\operatorname{acos}{\\left (- \\frac{p}{5} + 1 \\right )} \\right )}\\right) & \\text{otherwise} \\end{cases}$$"
      ],
      "text/plain": [
       "⎧                                                     ⎛   2 ⎛       __________\n",
       "⎪                                                   m⋅⎜2⋅p ⋅⎜19⋅p⋅╲╱ p⋅(-p + 1\n",
       "⎪                                                     ⎝     ⎝                 \n",
       "⎪                                                   ──────────────────────────\n",
       "⎪                                                                             \n",
       "⎪                                                                             \n",
       "⎪                                                                             \n",
       "⎨    ⎛     3    ⎛      ⎛  p    ⎞⎞            ⎛      ⎛  p    ⎞⎞    2   ________\n",
       "⎪    ⎜9⋅n⋅p ⋅sin⎜n⋅acos⎜- ─ + 1⎟⎟   9⋅n⋅p⋅sin⎜n⋅acos⎜- ─ + 1⎟⎟   p ⋅╲╱ p⋅(-p +\n",
       "⎪    ⎜          ⎝      ⎝  5    ⎠⎠            ⎝      ⎝  5    ⎠⎠                \n",
       "⎪4⋅m⋅⎜─────────────────────────── - ────────────────────────── - ─────────────\n",
       "⎪    ⎝             5                            10                            \n",
       "⎪─────────────────────────────────────────────────────────────────────────────\n",
       "⎪                                                                             \n",
       "⎩                                                                             \n",
       "\n",
       "___       _____________          ⎛  p    ⎞⎞         2          _____________  \n",
       "0)  - 5⋅╲╱ p⋅(-p + 10)  + 25⋅acos⎜- ─ + 1⎟⎟ - 25⋅π⋅p  - 19⋅p⋅╲╱ p⋅(-p + 10)  +\n",
       "                                 ⎝  5    ⎠⎠                                   \n",
       "──────────────────────────────────────────────────────────────────────────────\n",
       "                                           2 ⎛ 2    ⎞                         \n",
       "                                     25⋅π⋅p ⋅⎝p  - 1⎠                         \n",
       "                                                                              \n",
       "_____    ⎛      ⎛  p    ⎞⎞     _____________    ⎛      ⎛  p    ⎞⎞      3    ⎛ \n",
       " 10) ⋅cos⎜n⋅acos⎜- ─ + 1⎟⎟   ╲╱ p⋅(-p + 10) ⋅cos⎜n⋅acos⎜- ─ + 1⎟⎟   2⋅p ⋅sin⎜n\n",
       "         ⎝      ⎝  5    ⎠⎠                      ⎝      ⎝  5    ⎠⎠           ⎝ \n",
       "────────────────────────── + ──────────────────────────────────── - ──────────\n",
       "      5                                       10                              \n",
       "──────────────────────────────────────────────────────────────────────────────\n",
       "                                      2 ⎛ 2    ⎞ ⎛ 2    ⎞                     \n",
       "                                   π⋅p ⋅⎝n  - 1⎠⋅⎝p  - 1⎠                     \n",
       "\n",
       "     _____________          ⎛  p    ⎞⎞                                        \n",
       " 5⋅╲╱ p⋅(-p + 10)  - 25⋅acos⎜- ─ + 1⎟⎟                                        \n",
       "                            ⎝  5    ⎠⎠                                        \n",
       "──────────────────────────────────────                                        \n",
       "                                                                              \n",
       "                                                                              \n",
       "                                                                              \n",
       "     ⎛  p    ⎞⎞    2    ⎛      ⎛  p    ⎞⎞        ⎛      ⎛  p    ⎞⎞      ⎛     \n",
       "⋅acos⎜- ─ + 1⎟⎟   p ⋅sin⎜n⋅acos⎜- ─ + 1⎟⎟   p⋅sin⎜n⋅acos⎜- ─ + 1⎟⎟   sin⎜n⋅aco\n",
       "     ⎝  5    ⎠⎠         ⎝      ⎝  5    ⎠⎠        ⎝      ⎝  5    ⎠⎠      ⎝     \n",
       "─────────────── + ─────────────────────── + ────────────────────── - ─────────\n",
       "  n                          n                        n                      2\n",
       "──────────────────────────────────────────────────────────────────────────────\n",
       "                                                                              \n",
       "                                                                              \n",
       "\n",
       "                       \n",
       "                       \n",
       "                       \n",
       "              for n = 1\n",
       "                       \n",
       "                       \n",
       "                       \n",
       " ⎛  p    ⎞⎞⎞           \n",
       "s⎜- ─ + 1⎟⎟⎟           \n",
       " ⎝  5    ⎠⎠⎟           \n",
       "───────────⎟           \n",
       "⋅n         ⎠           \n",
       "────────────  otherwise\n",
       "                       \n",
       "                       "
      ]
     },
     "execution_count": 49,
     "metadata": {},
     "output_type": "execute_result"
    }
   ],
   "source": [
    "An_3ab_p"
   ]
  },
  {
   "cell_type": "code",
   "execution_count": 51,
   "metadata": {
    "collapsed": false
   },
   "outputs": [
    {
     "data": {
      "text/plain": [
       "\"alpha = Symbol('alpha')\\nm = Symbol('m')\\np = Symbol('p')\\ne = alpha - m*(-5*pi*p**2*(2*p - 1) + p**2*(10*p*acos(-p/5 + 1) + sqrt(-(-p + 5)**2 + 25) - 5*acos(-p/5 + 1)) + (p**2 - 1)*(10*p*acos(-p/5 + 1) + sqrt(-(-p + 5)**2 + 25) - 5*acos(-p/5 + 1)))/(5*pi*p**2*(p**2 - 1))\""
      ]
     },
     "execution_count": 51,
     "metadata": {},
     "output_type": "execute_result"
    }
   ],
   "source": [
    "sympy.python(A0_3ab_p)"
   ]
  },
  {
   "cell_type": "code",
   "execution_count": 50,
   "metadata": {
    "collapsed": false
   },
   "outputs": [
    {
     "data": {
      "text/plain": [
       "'e = Piecewise((m*(2*p**2*(19*p*sqrt(p*(-p + 10)) - 5*sqrt(p*(-p + 10)) + 25*acos(-p/5 + 1)) - 25*pi*p**2 - 19*p*sqrt(p*(-p + 10)) + 5*sqrt(p*(-p + 10)) - 25*acos(-p/5 + 1))/(25*pi*p**2*(p**2 - 1)), Eq(n, 1)), (4*m*(9*n*p**3*sin(n*acos(-p/5 + 1))/5 - 9*n*p*sin(n*acos(-p/5 + 1))/10 - p**2*sqrt(p*(-p + 10))*cos(n*acos(-p/5 + 1))/5 + sqrt(p*(-p + 10))*cos(n*acos(-p/5 + 1))/10 - 2*p**3*sin(n*acos(-p/5 + 1))/n + p**2*sin(n*acos(-p/5 + 1))/n + p*sin(n*acos(-p/5 + 1))/n - sin(n*acos(-p/5 + 1))/(2*n))/(pi*p**2*(n**2 - 1)*(p**2 - 1)), True))'"
      ]
     },
     "execution_count": 50,
     "metadata": {},
     "output_type": "execute_result"
    }
   ],
   "source": [
    "sympy.python(An_3ab_p)"
   ]
  },
  {
   "cell_type": "code",
   "execution_count": null,
   "metadata": {
    "collapsed": true
   },
   "outputs": [],
   "source": []
  },
  {
   "cell_type": "code",
   "execution_count": null,
   "metadata": {
    "collapsed": true
   },
   "outputs": [],
   "source": []
  },
  {
   "cell_type": "code",
   "execution_count": 35,
   "metadata": {
    "collapsed": true
   },
   "outputs": [],
   "source": [
    "r, k1 = sympy.symbols('r k_1')"
   ]
  },
  {
   "cell_type": "code",
   "execution_count": 36,
   "metadata": {
    "collapsed": true
   },
   "outputs": [],
   "source": [
    "# NACA 24XX\n",
    "\n",
    "#5% standard\t10\t5\t0.0580\t361.400\t\n",
    "#10% standard\t20\t10\t0.1260\t51.640\t\n",
    "#15% standard\t30\t15\t0.2025\t15.957\n",
    "\n",
    "#m = 0.02\n",
    "r1 = 0.4\n",
    "\n",
    "θs = sympy.acos(1-2*0.058)"
   ]
  },
  {
   "cell_type": "code",
   "execution_count": 37,
   "metadata": {
    "collapsed": true
   },
   "outputs": [],
   "source": [
    "yd4 = sympy.Piecewise(( (k1/6*(3*ξ**2-6*r*ξ+r**2*(3-r))).subs(ξ,t1),θ<=θs), \\\n",
    "                      ( (-k1*r**3/6), θ<=sympy.pi ))"
   ]
  },
  {
   "cell_type": "code",
   "execution_count": 38,
   "metadata": {
    "collapsed": false
   },
   "outputs": [
    {
     "data": {
      "image/png": "[encoded data removed]",
      "text/latex": [
       "$$\\begin{cases} \\frac{k_{1}}{6} \\left(\\frac{3 c^{2}}{4} \\left(- \\cos{\\left (\\theta \\right )} + 1\\right)^{2} - 3 c r \\left(- \\cos{\\left (\\theta \\right )} + 1\\right) + r^{2} \\left(- r + 3\\right)\\right) & \\text{for}\\: \\theta \\leq 0.486445758635753 \\\\- \\frac{k_{1} r^{3}}{6} & \\text{for}\\: \\theta \\leq \\pi \\end{cases}$$"
      ],
      "text/plain": [
       "⎧   ⎛   2              2                                    ⎞                 \n",
       "⎪   ⎜3⋅c ⋅(-cos(θ) + 1)                           2         ⎟                 \n",
       "⎪k₁⋅⎜─────────────────── - 3⋅c⋅r⋅(-cos(θ) + 1) + r ⋅(-r + 3)⎟                 \n",
       "⎪   ⎝         4                                             ⎠                 \n",
       "⎪────────────────────────────────────────────────────────────  for θ ≤ 0.48644\n",
       "⎨                             6                                               \n",
       "⎪                                                                             \n",
       "⎪                               3                                             \n",
       "⎪                          -k₁⋅r                                              \n",
       "⎪                          ───────                                     for θ ≤\n",
       "⎩                             6                                               \n",
       "\n",
       "          \n",
       "          \n",
       "          \n",
       "          \n",
       "5758635753\n",
       "          \n",
       "          \n",
       "          \n",
       "          \n",
       " π        \n",
       "          "
      ]
     },
     "execution_count": 38,
     "metadata": {},
     "output_type": "execute_result"
    }
   ],
   "source": [
    "yd4"
   ]
  },
  {
   "cell_type": "code",
   "execution_count": 39,
   "metadata": {
    "collapsed": true
   },
   "outputs": [],
   "source": [
    "A0_4 = α - sympy.simplify(1/sympy.pi * sympy.integrate(yd4,(θ,0,sympy.pi)))"
   ]
  },
  {
   "cell_type": "code",
   "execution_count": 40,
   "metadata": {
    "collapsed": false
   },
   "outputs": [
    {
     "data": {
      "image/png": "[encoded data removed]",
      "text/latex": [
       "$$\\alpha - \\frac{k_{1}}{6 \\pi} \\left(0.000993037904346294 c^{2} - 0.056876581270864 c r - \\pi r^{3} + 1.45933727590726 r^{2}\\right)$$"
      ],
      "text/plain": [
       "       ⎛                      2                              3                \n",
       "    k₁⋅⎝0.000993037904346294⋅c  - 0.056876581270864⋅c⋅r - π⋅r  + 1.45933727590\n",
       "α - ──────────────────────────────────────────────────────────────────────────\n",
       "                                           6⋅π                                \n",
       "\n",
       "     2⎞\n",
       "726⋅r ⎠\n",
       "───────\n",
       "       "
      ]
     },
     "execution_count": 40,
     "metadata": {},
     "output_type": "execute_result"
    }
   ],
   "source": [
    "A0_4"
   ]
  },
  {
   "cell_type": "code",
   "execution_count": 41,
   "metadata": {
    "collapsed": true
   },
   "outputs": [],
   "source": [
    "An_4 = sympy.simplify(2/sympy.pi * sympy.integrate(yd4*sympy.cos(n*θ),(θ,0,sympy.pi)))"
   ]
  },
  {
   "cell_type": "code",
   "execution_count": 42,
   "metadata": {
    "collapsed": false
   },
   "outputs": [
    {
     "data": {
      "image/png": "[encoded data removed]",
      "text/latex": [
       "$$\\begin{cases} \\frac{k_{1}}{3 \\pi n} \\left(n \\left(0.000910600656021388 c^{2} - 0.0529044296534789 c r - 0.467486898212132 r^{3} + 1.4024606946364 r^{2}\\right) + r^{3} \\sin{\\left (0.486445758635753 n \\right )}\\right) & \\text{for}\\: n = 1 \\\\\\frac{k_{1}}{3 \\pi n} \\left(n \\left(0.000678182369131891 c^{2} - 0.0416474727879224 c r - 0.413258418019524 r^{3} + 1.23977525405857 r^{2}\\right) + r^{3} \\sin{\\left (0.486445758635753 n \\right )}\\right) & \\text{for}\\: n = 2 \\\\\\frac{k_{1}}{3 \\pi n \\left(n^{4} - 5 n^{2} + 4\\right)} \\left(0.010092 c^{2} n^{4} \\sin{\\left (0.486445758635753 n \\right )} + 0.0813427202889109 c^{2} n^{3} \\cos{\\left (0.486445758635753 n \\right )} - 0.532092 c^{2} n^{2} \\sin{\\left (0.486445758635753 n \\right )} - 2.1850337622435 c^{2} n \\cos{\\left (0.486445758635753 n \\right )} + 4.5 c^{2} \\sin{\\left (0.486445758635753 n \\right )} - 0.348 c n^{4} r \\sin{\\left (0.486445758635753 n \\right )} - 1.4024606946364 c n^{3} r \\cos{\\left (0.486445758635753 n \\right )} + 4.392 c n^{2} r \\sin{\\left (0.486445758635753 n \\right )} + 5.60984277854558 c n r \\cos{\\left (0.486445758635753 n \\right )} - 12.0 c r \\sin{\\left (0.486445758635753 n \\right )} + 3.0 n^{4} r^{2} \\sin{\\left (0.486445758635753 n \\right )} - 15.0 n^{2} r^{2} \\sin{\\left (0.486445758635753 n \\right )} + 12.0 r^{2} \\sin{\\left (0.486445758635753 n \\right )}\\right) & \\text{otherwise} \\end{cases}$$"
      ],
      "text/plain": [
       "⎧                                                                             \n",
       "⎪                                                                             \n",
       "⎪                                                                             \n",
       "⎪                                                                             \n",
       "⎪                                                                             \n",
       "⎪                                                                             \n",
       "⎪                                                                             \n",
       "⎨                                                                             \n",
       "⎪                                                                             \n",
       "⎪                                                                             \n",
       "⎪   ⎛          2  4                                                2  3       \n",
       "⎪k₁⋅⎝0.010092⋅c ⋅n ⋅sin(0.486445758635753⋅n) + 0.0813427202889109⋅c ⋅n ⋅cos(0.\n",
       "⎪─────────────────────────────────────────────────────────────────────────────\n",
       "⎪                                                                             \n",
       "⎩                                                                             \n",
       "\n",
       "                                                                              \n",
       "                                                                              \n",
       "                                                                              \n",
       "                                                                              \n",
       "                                                                              \n",
       "                                                                              \n",
       "                                                                              \n",
       "                                                                              \n",
       "                                                                              \n",
       "                                                                              \n",
       "                               2  2                                           \n",
       "486445758635753⋅n) - 0.532092⋅c ⋅n ⋅sin(0.486445758635753⋅n) - 2.1850337622435\n",
       "──────────────────────────────────────────────────────────────────────────────\n",
       "                                                                              \n",
       "                                                                              \n",
       "\n",
       "                                                       ⎛  ⎛                   \n",
       "                                                    k₁⋅⎝n⋅⎝0.00091060065602138\n",
       "                                                    ──────────────────────────\n",
       "                                                                              \n",
       "                                                                              \n",
       "                                                       ⎛  ⎛                   \n",
       "                                                    k₁⋅⎝n⋅⎝0.00067818236913189\n",
       "                                                    ──────────────────────────\n",
       "                                                                              \n",
       "                                                                              \n",
       "  2                                   2                                     4 \n",
       "⋅c ⋅n⋅cos(0.486445758635753⋅n) + 4.5⋅c ⋅sin(0.486445758635753⋅n) - 0.348⋅c⋅n ⋅\n",
       "──────────────────────────────────────────────────────────────────────────────\n",
       "                                                                              \n",
       "                                                                              \n",
       "\n",
       "   2                                               3                    2⎞    \n",
       "8⋅c  - 0.0529044296534789⋅c⋅r - 0.467486898212132⋅r  + 1.4024606946364⋅r ⎠ + r\n",
       "──────────────────────────────────────────────────────────────────────────────\n",
       "                                     3⋅π⋅n                                    \n",
       "                                                                              \n",
       "   2                                               3                     2⎞   \n",
       "1⋅c  - 0.0416474727879224⋅c⋅r - 0.413258418019524⋅r  + 1.23977525405857⋅r ⎠ + \n",
       "──────────────────────────────────────────────────────────────────────────────\n",
       "                                     3⋅π⋅n                                    \n",
       "                                                                              \n",
       "                                                3                             \n",
       "r⋅sin(0.486445758635753⋅n) - 1.4024606946364⋅c⋅n ⋅r⋅cos(0.486445758635753⋅n) +\n",
       "──────────────────────────────────────────────────────────────────────────────\n",
       "                                   ⎛ 4      2    ⎞                            \n",
       "                             3⋅π⋅n⋅⎝n  - 5⋅n  + 4⎠                            \n",
       "\n",
       "3                         ⎞                                                   \n",
       " ⋅sin(0.486445758635753⋅n)⎠                                                   \n",
       "───────────────────────────                                                   \n",
       "                                                                              \n",
       "                                                                              \n",
       " 3                         ⎞                                                  \n",
       "r ⋅sin(0.486445758635753⋅n)⎠                                                  \n",
       "────────────────────────────                                                  \n",
       "                                                                              \n",
       "                                                                              \n",
       "          2                                                                   \n",
       " 4.392⋅c⋅n ⋅r⋅sin(0.486445758635753⋅n) + 5.60984277854558⋅c⋅n⋅r⋅cos(0.48644575\n",
       "──────────────────────────────────────────────────────────────────────────────\n",
       "                                                                              \n",
       "                                                                              \n",
       "\n",
       "                                                                              \n",
       "                                                                              \n",
       "                                                                              \n",
       "                                                                              \n",
       "                                                                              \n",
       "                                                                              \n",
       "                                                                              \n",
       "                                                                              \n",
       "                                                                              \n",
       "                                                                              \n",
       "                                                      4  2                    \n",
       "8635753⋅n) - 12.0⋅c⋅r⋅sin(0.486445758635753⋅n) + 3.0⋅n ⋅r ⋅sin(0.4864457586357\n",
       "──────────────────────────────────────────────────────────────────────────────\n",
       "                                                                              \n",
       "                                                                              \n",
       "\n",
       "                                                                              \n",
       "                                                                              \n",
       "                                                                              \n",
       "                                                                              \n",
       "                                                                              \n",
       "                                                                              \n",
       "                                                                              \n",
       "                                                                              \n",
       "                                                                              \n",
       "                                                                              \n",
       "              2  2                                  2                         \n",
       "53⋅n) - 15.0⋅n ⋅r ⋅sin(0.486445758635753⋅n) + 12.0⋅r ⋅sin(0.486445758635753⋅n)\n",
       "──────────────────────────────────────────────────────────────────────────────\n",
       "                                                                              \n",
       "                                                                              \n",
       "\n",
       "            \n",
       "            \n",
       "   for n = 1\n",
       "            \n",
       "            \n",
       "            \n",
       "            \n",
       "   for n = 2\n",
       "            \n",
       "            \n",
       "⎞           \n",
       "⎠           \n",
       "─  otherwise\n",
       "            \n",
       "            "
      ]
     },
     "execution_count": 42,
     "metadata": {},
     "output_type": "execute_result"
    }
   ],
   "source": [
    "An_4"
   ]
  },
  {
   "cell_type": "code",
   "execution_count": 54,
   "metadata": {
    "collapsed": true
   },
   "outputs": [],
   "source": [
    "n1 = 5\n",
    "#sympy.integrate(An_4.subs(n,n1)*sympy.sin(n1*θ),(θ,0,sympy.pi))\n",
    "Bn_4 = sympy.simplify(sympy.integrate(An_4*sympy.sin(n*θ),(θ,0,sympy.pi)))"
   ]
  },
  {
   "cell_type": "code",
   "execution_count": 55,
   "metadata": {
    "collapsed": false
   },
   "outputs": [
    {
     "data": {
      "image/png": "[encoded data removed]",
      "text/latex": [
       "$$\\begin{cases} \\frac{k_{1}}{3 \\pi n^{2}} \\left(- \\left(-1\\right)^{n} + 1\\right) \\left(n \\left(0.000910600656021388 c^{2} - 0.0529044296534789 c r - 0.467486898212132 r^{3} + 1.4024606946364 r^{2}\\right) + r^{3} \\sin{\\left (0.486445758635753 n \\right )}\\right) & \\text{for}\\: n = 1 \\\\\\frac{k_{1}}{3 \\pi n^{2}} \\left(- \\left(-1\\right)^{n} + 1\\right) \\left(n \\left(0.000678182369131891 c^{2} - 0.0416474727879224 c r - 0.413258418019524 r^{3} + 1.23977525405857 r^{2}\\right) + r^{3} \\sin{\\left (0.486445758635753 n \\right )}\\right) & \\text{for}\\: n = 2 \\\\\\frac{k_{1}}{3 \\pi n^{2} \\left(n^{4} - 5 n^{2} + 4\\right)} \\left(- \\left(-1\\right)^{n} + 1\\right) \\left(0.010092 c^{2} n^{4} \\sin{\\left (0.486445758635753 n \\right )} + 0.0813427202889109 c^{2} n^{3} \\cos{\\left (0.486445758635753 n \\right )} - 0.532092 c^{2} n^{2} \\sin{\\left (0.486445758635753 n \\right )} - 2.1850337622435 c^{2} n \\cos{\\left (0.486445758635753 n \\right )} + 4.5 c^{2} \\sin{\\left (0.486445758635753 n \\right )} - 0.348 c n^{4} r \\sin{\\left (0.486445758635753 n \\right )} - 1.4024606946364 c n^{3} r \\cos{\\left (0.486445758635753 n \\right )} + 4.392 c n^{2} r \\sin{\\left (0.486445758635753 n \\right )} + 5.60984277854558 c n r \\cos{\\left (0.486445758635753 n \\right )} - 12.0 c r \\sin{\\left (0.486445758635753 n \\right )} + 3.0 n^{4} r^{2} \\sin{\\left (0.486445758635753 n \\right )} - 15.0 n^{2} r^{2} \\sin{\\left (0.486445758635753 n \\right )} + 12.0 r^{2} \\sin{\\left (0.486445758635753 n \\right )}\\right) & \\text{otherwise} \\end{cases}$$"
      ],
      "text/plain": [
       "⎧                                                                             \n",
       "⎪                                                                             \n",
       "⎪                                                                             \n",
       "⎪                                                                             \n",
       "⎪                                                                             \n",
       "⎪                                                                             \n",
       "⎪                                                                             \n",
       "⎪                                                                             \n",
       "⎨                                                                             \n",
       "⎪                                                                             \n",
       "⎪                                                                             \n",
       "⎪                                                                             \n",
       "⎪   ⎛      n    ⎞ ⎛          2  4                                             \n",
       "⎪k₁⋅⎝- (-1)  + 1⎠⋅⎝0.010092⋅c ⋅n ⋅sin(0.486445758635753⋅n) + 0.081342720288910\n",
       "⎪─────────────────────────────────────────────────────────────────────────────\n",
       "⎪                                                                             \n",
       "⎩                                                                             \n",
       "\n",
       "                                                                              \n",
       "                                                                              \n",
       "                                                                              \n",
       "                                                                              \n",
       "                                                                              \n",
       "                                                                              \n",
       "                                                                              \n",
       "                                                                              \n",
       "                                                                              \n",
       "                                                                              \n",
       "                                                                              \n",
       "                                                                              \n",
       "   2  3                                      2  2                             \n",
       "9⋅c ⋅n ⋅cos(0.486445758635753⋅n) - 0.532092⋅c ⋅n ⋅sin(0.486445758635753⋅n) - 2\n",
       "──────────────────────────────────────────────────────────────────────────────\n",
       "                                                                              \n",
       "                                                                              \n",
       "\n",
       "                                                       ⎛      n    ⎞ ⎛  ⎛     \n",
       "                                                    k₁⋅⎝- (-1)  + 1⎠⋅⎝n⋅⎝0.000\n",
       "                                                    ──────────────────────────\n",
       "                                                                              \n",
       "                                                                              \n",
       "                                                                              \n",
       "                                                       ⎛      n    ⎞ ⎛  ⎛     \n",
       "                                                    k₁⋅⎝- (-1)  + 1⎠⋅⎝n⋅⎝0.000\n",
       "                                                    ──────────────────────────\n",
       "                                                                              \n",
       "                                                                              \n",
       "                                                                              \n",
       "                2                                   2                         \n",
       ".1850337622435⋅c ⋅n⋅cos(0.486445758635753⋅n) + 4.5⋅c ⋅sin(0.486445758635753⋅n)\n",
       "──────────────────────────────────────────────────────────────────────────────\n",
       "                                                                              \n",
       "                                                                              \n",
       "\n",
       "                 2                                               3            \n",
       "910600656021388⋅c  - 0.0529044296534789⋅c⋅r - 0.467486898212132⋅r  + 1.4024606\n",
       "──────────────────────────────────────────────────────────────────────────────\n",
       "                                                 2                            \n",
       "                                            3⋅π⋅n                             \n",
       "                                                                              \n",
       "                 2                                               3            \n",
       "678182369131891⋅c  - 0.0416474727879224⋅c⋅r - 0.413258418019524⋅r  + 1.2397752\n",
       "──────────────────────────────────────────────────────────────────────────────\n",
       "                                                 2                            \n",
       "                                            3⋅π⋅n                             \n",
       "                                                                              \n",
       "            4                                                 3               \n",
       " - 0.348⋅c⋅n ⋅r⋅sin(0.486445758635753⋅n) - 1.4024606946364⋅c⋅n ⋅r⋅cos(0.486445\n",
       "──────────────────────────────────────────────────────────────────────────────\n",
       "                                         2 ⎛ 4      2    ⎞                    \n",
       "                                    3⋅π⋅n ⋅⎝n  - 5⋅n  + 4⎠                    \n",
       "\n",
       "        2⎞    3                         ⎞                                     \n",
       "946364⋅r ⎠ + r ⋅sin(0.486445758635753⋅n)⎠                                     \n",
       "─────────────────────────────────────────                                     \n",
       "                                                                              \n",
       "                                                                              \n",
       "                                                                              \n",
       "         2⎞    3                         ⎞                                    \n",
       "5405857⋅r ⎠ + r ⋅sin(0.486445758635753⋅n)⎠                                    \n",
       "──────────────────────────────────────────                                    \n",
       "                                                                              \n",
       "                                                                              \n",
       "                                                                              \n",
       "                        2                                                     \n",
       "758635753⋅n) + 4.392⋅c⋅n ⋅r⋅sin(0.486445758635753⋅n) + 5.60984277854558⋅c⋅n⋅r⋅\n",
       "──────────────────────────────────────────────────────────────────────────────\n",
       "                                                                              \n",
       "                                                                              \n",
       "\n",
       "                                                                              \n",
       "                                                                              \n",
       "                                                                              \n",
       "                                                                              \n",
       "                                                                              \n",
       "                                                                              \n",
       "                                                                              \n",
       "                                                                              \n",
       "                                                                              \n",
       "                                                                              \n",
       "                                                                              \n",
       "                                                                              \n",
       "                                                                    4  2      \n",
       "cos(0.486445758635753⋅n) - 12.0⋅c⋅r⋅sin(0.486445758635753⋅n) + 3.0⋅n ⋅r ⋅sin(0\n",
       "──────────────────────────────────────────────────────────────────────────────\n",
       "                                                                              \n",
       "                                                                              \n",
       "\n",
       "                                                                              \n",
       "                                                                              \n",
       "                                                                              \n",
       "                                                                              \n",
       "                                                                              \n",
       "                                                                              \n",
       "                                                                              \n",
       "                                                                              \n",
       "                                                                              \n",
       "                                                                              \n",
       "                                                                              \n",
       "                                                                              \n",
       "                            2  2                                  2           \n",
       ".486445758635753⋅n) - 15.0⋅n ⋅r ⋅sin(0.486445758635753⋅n) + 12.0⋅r ⋅sin(0.4864\n",
       "──────────────────────────────────────────────────────────────────────────────\n",
       "                                                                              \n",
       "                                                                              \n",
       "\n",
       "                          \n",
       "                          \n",
       "                 for n = 1\n",
       "                          \n",
       "                          \n",
       "                          \n",
       "                          \n",
       "                          \n",
       "                 for n = 2\n",
       "                          \n",
       "                          \n",
       "                          \n",
       "              ⎞           \n",
       "45758635753⋅n)⎠           \n",
       "───────────────  otherwise\n",
       "                          \n",
       "                          "
      ]
     },
     "execution_count": 55,
     "metadata": {},
     "output_type": "execute_result"
    }
   ],
   "source": [
    "Bn_4"
   ]
  },
  {
   "cell_type": "code",
   "execution_count": 56,
   "metadata": {
    "collapsed": false
   },
   "outputs": [
    {
     "data": {
      "text/plain": [
       "'e = Piecewise((k_1*(-(-1)**n + 1)*(n*(0.000910600656021388*c**2 - 0.0529044296534789*c*r - 0.467486898212132*r**3 + 1.4024606946364*r**2) + r**3*sin(0.486445758635753*n))/(3*pi*n**2), Eq(n, 1)), (k_1*(-(-1)**n + 1)*(n*(0.000678182369131891*c**2 - 0.0416474727879224*c*r - 0.413258418019524*r**3 + 1.23977525405857*r**2) + r**3*sin(0.486445758635753*n))/(3*pi*n**2), Eq(n, 2)), (k_1*(-(-1)**n + 1)*(0.010092*c**2*n**4*sin(0.486445758635753*n) + 0.0813427202889109*c**2*n**3*cos(0.486445758635753*n) - 0.532092*c**2*n**2*sin(0.486445758635753*n) - 2.1850337622435*c**2*n*cos(0.486445758635753*n) + 4.5*c**2*sin(0.486445758635753*n) - 0.348*c*n**4*r*sin(0.486445758635753*n) - 1.4024606946364*c*n**3*r*cos(0.486445758635753*n) + 4.392*c*n**2*r*sin(0.486445758635753*n) + 5.60984277854558*c*n*r*cos(0.486445758635753*n) - 12.0*c*r*sin(0.486445758635753*n) + 3.0*n**4*r**2*sin(0.486445758635753*n) - 15.0*n**2*r**2*sin(0.486445758635753*n) + 12.0*r**2*sin(0.486445758635753*n))/(3*pi*n**2*(n**4 - 5*n**2 + 4)), True))'"
      ]
     },
     "execution_count": 56,
     "metadata": {},
     "output_type": "execute_result"
    }
   ],
   "source": [
    "sympy.python(Bn_4)"
   ]
  },
  {
   "cell_type": "code",
   "execution_count": 57,
   "metadata": {
    "collapsed": false
   },
   "outputs": [
    {
     "data": {
      "text/plain": [
       "\"alpha = Symbol('alpha')\\nm = Symbol('m')\\np = Symbol('p')\\ne = alpha - m*(p**2*(Float('2.7388768120091318', precision=53)*p - pi*(2*p - 1) + Float('-0.3896425088912947', precision=53)) + 2*(Float('1.3694384060045659', precision=53)*p + Float('-0.19482125444564735', precision=53))*(p**2 - 1))/(pi*p**2*(p**2 - 1))\""
      ]
     },
     "execution_count": 57,
     "metadata": {},
     "output_type": "execute_result"
    }
   ],
   "source": [
    "sympy.python(A0_3)"
   ]
  },
  {
   "cell_type": "code",
   "execution_count": 58,
   "metadata": {
    "collapsed": false
   },
   "outputs": [
    {
     "data": {
      "text/plain": [
       "'e = Piecewise((4*m*(1.95959179422654*p - pi/4 - 0.197097104399661 - (0.979795897113271*p - 0.0985485521998306)/p**2)/(pi*(p**2 - 1)), Eq(n, 1)), (4*m*(2.0*n*p*sin(1.36943840600457*n) - 0.8*n*sin(1.36943840600457*n) - 1.0*n*sin(1.36943840600457*n)/p + 0.4*n*sin(1.36943840600457*n)/p**2 - 0.979795897113271*cos(1.36943840600457*n) + 0.489897948556636*cos(1.36943840600457*n)/p**2 - 2.0*p*sin(1.36943840600457*n)/n + 1.0*sin(1.36943840600457*n)/n + 1.0*sin(1.36943840600457*n)/(n*p) - 0.5*sin(1.36943840600457*n)/(n*p**2))/(pi*(n**2 - 1)*(p**2 - 1)), True))'"
      ]
     },
     "execution_count": 58,
     "metadata": {},
     "output_type": "execute_result"
    }
   ],
   "source": [
    "sympy.python(An_3)"
   ]
  },
  {
   "cell_type": "code",
   "execution_count": 59,
   "metadata": {
    "collapsed": false
   },
   "outputs": [
    {
     "data": {
      "text/plain": [
       "\"alpha = Symbol('alpha')\\nk_1 = Symbol('k_1')\\nc = Symbol('c')\\nr = Symbol('r')\\ne = alpha - k_1*(Float('0.00099303790434629446', precision=53)*c**2 - Float('0.056876581270864035', precision=53)*c*r - pi*r**3 + Float('1.4593372759072591', precision=53)*r**2)/(6*pi)\""
      ]
     },
     "execution_count": 59,
     "metadata": {},
     "output_type": "execute_result"
    }
   ],
   "source": [
    "sympy.python(A0_4)"
   ]
  },
  {
   "cell_type": "code",
   "execution_count": 60,
   "metadata": {
    "collapsed": false
   },
   "outputs": [
    {
     "data": {
      "text/plain": [
       "'e = Piecewise((k_1*(n*(0.000910600656021388*c**2 - 0.0529044296534789*c*r - 0.467486898212132*r**3 + 1.4024606946364*r**2) + r**3*sin(0.486445758635753*n))/(3*pi*n), Eq(n, 1)), (k_1*(n*(0.000678182369131891*c**2 - 0.0416474727879224*c*r - 0.413258418019524*r**3 + 1.23977525405857*r**2) + r**3*sin(0.486445758635753*n))/(3*pi*n), Eq(n, 2)), (k_1*(0.010092*c**2*n**4*sin(0.486445758635753*n) + 0.0813427202889109*c**2*n**3*cos(0.486445758635753*n) - 0.532092*c**2*n**2*sin(0.486445758635753*n) - 2.1850337622435*c**2*n*cos(0.486445758635753*n) + 4.5*c**2*sin(0.486445758635753*n) - 0.348*c*n**4*r*sin(0.486445758635753*n) - 1.4024606946364*c*n**3*r*cos(0.486445758635753*n) + 4.392*c*n**2*r*sin(0.486445758635753*n) + 5.60984277854558*c*n*r*cos(0.486445758635753*n) - 12.0*c*r*sin(0.486445758635753*n) + 3.0*n**4*r**2*sin(0.486445758635753*n) - 15.0*n**2*r**2*sin(0.486445758635753*n) + 12.0*r**2*sin(0.486445758635753*n))/(3*pi*n*(n**4 - 5*n**2 + 4)), True))'"
      ]
     },
     "execution_count": 60,
     "metadata": {},
     "output_type": "execute_result"
    }
   ],
   "source": [
    "sympy.python(An_4)"
   ]
  },
  {
   "cell_type": "code",
   "execution_count": null,
   "metadata": {
    "collapsed": true
   },
   "outputs": [],
   "source": []
  }
 ],
 "metadata": {
  "kernelspec": {
   "display_name": "Python [conda env:py36]",
   "language": "python",
   "name": "conda-env-py36-py"
  },
  "language_info": {
   "codemirror_mode": {
    "name": "ipython",
    "version": 3
   },
   "file_extension": ".py",
   "mimetype": "text/x-python",
   "name": "python",
   "nbconvert_exporter": "python",
   "pygments_lexer": "ipython3",
   "version": "3.6.3"
  }
 },
 "nbformat": 4,
 "nbformat_minor": 1
}
