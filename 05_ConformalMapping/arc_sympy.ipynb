{
 "cells": [
  {
   "cell_type": "code",
   "execution_count": 26,
   "metadata": {
    "collapsed": true
   },
   "outputs": [],
   "source": [
    "import sympy"
   ]
  },
  {
   "cell_type": "code",
   "execution_count": 27,
   "metadata": {
    "collapsed": true
   },
   "outputs": [],
   "source": [
    "sympy.init_printing()"
   ]
  },
  {
   "cell_type": "code",
   "execution_count": 28,
   "metadata": {
    "collapsed": false
   },
   "outputs": [],
   "source": [
    "d = sympy.Symbol('delta')"
   ]
  },
  {
   "cell_type": "code",
   "execution_count": 29,
   "metadata": {
    "collapsed": true
   },
   "outputs": [],
   "source": [
    "c = sympy.I*d\n",
    "r = d+sympy.sqrt(1+d**2)\n",
    "pu = sympy.I*(c+r)\n",
    "pl = -1\n",
    "pr = 1"
   ]
  },
  {
   "cell_type": "code",
   "execution_count": 30,
   "metadata": {
    "collapsed": false
   },
   "outputs": [
    {
     "data": {
      "image/png": "[encoded data removed]",
      "text/latex": [
       "$$i \\left(\\delta + i \\delta + \\sqrt{\\delta^{2} + 1}\\right) - \\frac{i}{\\delta + i \\delta + \\sqrt{\\delta^{2} + 1}}$$"
      ],
      "text/plain": [
       "  ⎛             ________⎞                        \n",
       "  ⎜            ╱  2     ⎟             ⅈ          \n",
       "ⅈ⋅⎝δ + ⅈ⋅δ + ╲╱  δ  + 1 ⎠ - ─────────────────────\n",
       "                                         ________\n",
       "                                        ╱  2     \n",
       "                            δ + ⅈ⋅δ + ╲╱  δ  + 1 "
      ]
     },
     "execution_count": 30,
     "metadata": {},
     "output_type": "execute_result"
    }
   ],
   "source": [
    "t_pu = pu + 1/pu\n",
    "t_pu"
   ]
  },
  {
   "cell_type": "code",
   "execution_count": 31,
   "metadata": {
    "collapsed": false
   },
   "outputs": [
    {
     "data": {
      "image/png": "[encoded data removed]",
      "text/latex": [
       "$$- \\sqrt[4]{\\left(\\left(\\Re{\\left(\\delta\\right)}\\right)^{2} - \\left(\\Im{\\delta}\\right)^{2} + 1\\right)^{2} + 4 \\left(\\Re{\\left(\\delta\\right)}\\right)^{2} \\left(\\Im{\\delta}\\right)^{2}} \\sin{\\left (\\frac{1}{2} \\operatorname{atan_{2}}{\\left (2 \\Re{\\left(\\delta\\right)} \\Im{\\delta},\\left(\\Re{\\left(\\delta\\right)}\\right)^{2} - \\left(\\Im{\\delta}\\right)^{2} + 1 \\right )} \\right )} - \\Re{\\left(\\delta\\right)} - \\Im{\\delta} + \\frac{- \\sqrt[4]{\\left(\\left(\\Re{\\left(\\delta\\right)}\\right)^{2} - \\left(\\Im{\\delta}\\right)^{2} + 1\\right)^{2} + 4 \\left(\\Re{\\left(\\delta\\right)}\\right)^{2} \\left(\\Im{\\delta}\\right)^{2}} \\sin{\\left (\\frac{1}{2} \\operatorname{atan_{2}}{\\left (2 \\Re{\\left(\\delta\\right)} \\Im{\\delta},\\left(\\Re{\\left(\\delta\\right)}\\right)^{2} - \\left(\\Im{\\delta}\\right)^{2} + 1 \\right )} \\right )} - \\Re{\\left(\\delta\\right)} - \\Im{\\delta}}{\\left(\\sqrt[4]{\\left(\\left(\\Re{\\left(\\delta\\right)}\\right)^{2} - \\left(\\Im{\\delta}\\right)^{2} + 1\\right)^{2} + 4 \\left(\\Re{\\left(\\delta\\right)}\\right)^{2} \\left(\\Im{\\delta}\\right)^{2}} \\sin{\\left (\\frac{1}{2} \\operatorname{atan_{2}}{\\left (2 \\Re{\\left(\\delta\\right)} \\Im{\\delta},\\left(\\Re{\\left(\\delta\\right)}\\right)^{2} - \\left(\\Im{\\delta}\\right)^{2} + 1 \\right )} \\right )} + \\Re{\\left(\\delta\\right)} + \\Im{\\delta}\\right)^{2} + \\left(\\sqrt[4]{\\left(\\left(\\Re{\\left(\\delta\\right)}\\right)^{2} - \\left(\\Im{\\delta}\\right)^{2} + 1\\right)^{2} + 4 \\left(\\Re{\\left(\\delta\\right)}\\right)^{2} \\left(\\Im{\\delta}\\right)^{2}} \\cos{\\left (\\frac{1}{2} \\operatorname{atan_{2}}{\\left (2 \\Re{\\left(\\delta\\right)} \\Im{\\delta},\\left(\\Re{\\left(\\delta\\right)}\\right)^{2} - \\left(\\Im{\\delta}\\right)^{2} + 1 \\right )} \\right )} + \\Re{\\left(\\delta\\right)} - \\Im{\\delta}\\right)^{2}}$$"
      ],
      "text/plain": [
       "                                                                              \n",
       "                                                                              \n",
       "      __________________________________________                              \n",
       "     ╱                      2                       ⎛     ⎛                 2 \n",
       "  4 ╱  ⎛  2        2       ⎞        2      2        ⎜atan2⎝2⋅re(δ)⋅im(δ), re (\n",
       "- ╲╱   ⎝re (δ) - im (δ) + 1⎠  + 4⋅re (δ)⋅im (δ) ⋅sin⎜─────────────────────────\n",
       "                                                    ⎝                    2    \n",
       "                                                                              \n",
       "                                                                              \n",
       "                                                                              \n",
       "                                                                              \n",
       "                                                                              \n",
       "\n",
       "                                                                              \n",
       "                                                                              \n",
       "                                                                              \n",
       "       2       ⎞⎞                                                             \n",
       "δ) - im (δ) + 1⎠⎟                                                             \n",
       "────────────────⎟ - re(δ) - im(δ) + ──────────────────────────────────────────\n",
       "                ⎠                                                             \n",
       "                                    ⎛    _____________________________________\n",
       "                                    ⎜   ╱                      2              \n",
       "                                    ⎜4 ╱  ⎛  2        2       ⎞        2      \n",
       "                                    ⎜╲╱   ⎝re (δ) - im (δ) + 1⎠  + 4⋅re (δ)⋅im\n",
       "                                    ⎝                                         \n",
       "\n",
       "                      __________________________________________              \n",
       "                     ╱                      2                       ⎛     ⎛   \n",
       "                  4 ╱  ⎛  2        2       ⎞        2      2        ⎜atan2⎝2⋅r\n",
       "                - ╲╱   ⎝re (δ) - im (δ) + 1⎠  + 4⋅re (δ)⋅im (δ) ⋅sin⎜─────────\n",
       "                                                                    ⎝         \n",
       "──────────────────────────────────────────────────────────────────────────────\n",
       "                                                                     2        \n",
       "_____                                                               ⎞    ⎛    \n",
       "         ⎛     ⎛                 2        2       ⎞⎞                ⎟    ⎜   ╱\n",
       "2        ⎜atan2⎝2⋅re(δ)⋅im(δ), re (δ) - im (δ) + 1⎠⎟                ⎟    ⎜4 ╱ \n",
       " (δ) ⋅sin⎜─────────────────────────────────────────⎟ + re(δ) + im(δ)⎟  + ⎜╲╱  \n",
       "         ⎝                    2                    ⎠                ⎠    ⎝    \n",
       "\n",
       "                                                                              \n",
       "              2        2       ⎞⎞                                             \n",
       "e(δ)⋅im(δ), re (δ) - im (δ) + 1⎠⎟                                             \n",
       "────────────────────────────────⎟ - re(δ) - im(δ)                             \n",
       "           2                    ⎠                                             \n",
       "──────────────────────────────────────────────────────────────────────────────\n",
       "                                                                              \n",
       "__________________________________________                                    \n",
       "                      2                       ⎛     ⎛                 2       \n",
       " ⎛  2        2       ⎞        2      2        ⎜atan2⎝2⋅re(δ)⋅im(δ), re (δ) - i\n",
       " ⎝re (δ) - im (δ) + 1⎠  + 4⋅re (δ)⋅im (δ) ⋅cos⎜───────────────────────────────\n",
       "                                              ⎝                    2          \n",
       "\n",
       "                             \n",
       "                             \n",
       "                             \n",
       "                             \n",
       "                             \n",
       "─────────────────────────────\n",
       "                            2\n",
       "                           ⎞ \n",
       " 2       ⎞⎞                ⎟ \n",
       "m (δ) + 1⎠⎟                ⎟ \n",
       "──────────⎟ + re(δ) - im(δ)⎟ \n",
       "          ⎠                ⎠ "
      ]
     },
     "execution_count": 31,
     "metadata": {},
     "output_type": "execute_result"
    }
   ],
   "source": [
    "sympy.re(t_pu)"
   ]
  },
  {
   "cell_type": "code",
   "execution_count": 32,
   "metadata": {
    "collapsed": false
   },
   "outputs": [
    {
     "data": {
      "image/png": "[encoded data removed]",
      "text/latex": [
       "$$-2$$"
      ],
      "text/plain": [
       "-2"
      ]
     },
     "execution_count": 32,
     "metadata": {},
     "output_type": "execute_result"
    }
   ],
   "source": [
    "t_pl = pl + 1/pl\n",
    "t_pl"
   ]
  },
  {
   "cell_type": "code",
   "execution_count": 33,
   "metadata": {
    "collapsed": false
   },
   "outputs": [
    {
     "data": {
      "image/png": "[encoded data removed]",
      "text/latex": [
       "$$i \\delta - \\frac{i}{\\delta}$$"
      ],
      "text/plain": [
       "      ⅈ\n",
       "ⅈ⋅δ - ─\n",
       "      δ"
      ]
     },
     "execution_count": 33,
     "metadata": {},
     "output_type": "execute_result"
    }
   ],
   "source": [
    "t_c = c + 1/c\n",
    "t_c"
   ]
  },
  {
   "cell_type": "code",
   "execution_count": null,
   "metadata": {
    "collapsed": true
   },
   "outputs": [],
   "source": []
  }
 ],
 "metadata": {
  "kernelspec": {
   "display_name": "Python [conda root]",
   "language": "python",
   "name": "conda-root-py"
  },
  "language_info": {
   "codemirror_mode": {
    "name": "ipython",
    "version": 2
   },
   "file_extension": ".py",
   "mimetype": "text/x-python",
   "name": "python",
   "nbconvert_exporter": "python",
   "pygments_lexer": "ipython2",
   "version": "2.7.13"
  }
 },
 "nbformat": 4,
 "nbformat_minor": 1
}
