{
 "cells": [
  {
   "cell_type": "code",
   "execution_count": 2,
   "metadata": {
    "collapsed": false
   },
   "outputs": [],
   "source": [
    "import sympy\n",
    "sympy.init_printing()"
   ]
  },
  {
   "cell_type": "code",
   "execution_count": 5,
   "metadata": {
    "collapsed": false
   },
   "outputs": [],
   "source": [
    "z,n,ζ = sympy.symbols('z,n,zeta')"
   ]
  },
  {
   "cell_type": "code",
   "execution_count": 6,
   "metadata": {
    "collapsed": true
   },
   "outputs": [],
   "source": [
    "z = n*( (1+1/ζ)**n + (1-1/ζ)**n   ) / ( (1+1/ζ)**n - (1-1/ζ)**n )"
   ]
  },
  {
   "cell_type": "code",
   "execution_count": 7,
   "metadata": {
    "collapsed": false
   },
   "outputs": [
    {
     "data": {
      "image/png": "[encoded data removed]",
      "text/latex": [
       "$$\\frac{n \\left(\\left(1 - \\frac{1}{\\zeta}\\right)^{n} + \\left(1 + \\frac{1}{\\zeta}\\right)^{n}\\right)}{- \\left(1 - \\frac{1}{\\zeta}\\right)^{n} + \\left(1 + \\frac{1}{\\zeta}\\right)^{n}}$$"
      ],
      "text/plain": [
       "  ⎛       n          n⎞\n",
       "  ⎜⎛    1⎞    ⎛    1⎞ ⎟\n",
       "n⋅⎜⎜1 - ─⎟  + ⎜1 + ─⎟ ⎟\n",
       "  ⎝⎝    ζ⎠    ⎝    ζ⎠ ⎠\n",
       "───────────────────────\n",
       "          n          n \n",
       "   ⎛    1⎞    ⎛    1⎞  \n",
       " - ⎜1 - ─⎟  + ⎜1 + ─⎟  \n",
       "   ⎝    ζ⎠    ⎝    ζ⎠  "
      ]
     },
     "execution_count": 7,
     "metadata": {},
     "output_type": "execute_result"
    }
   ],
   "source": [
    "z"
   ]
  },
  {
   "cell_type": "code",
   "execution_count": 10,
   "metadata": {
    "collapsed": false
   },
   "outputs": [],
   "source": [
    "dz = sympy.simplify(sympy.diff(z,ζ))"
   ]
  },
  {
   "cell_type": "code",
   "execution_count": 11,
   "metadata": {
    "collapsed": false
   },
   "outputs": [
    {
     "data": {
      "text/plain": [
       "\"n = Symbol('n')\\nzeta = Symbol('zeta')\\ne = 4*n**2*((zeta - 1)/zeta)**n*((zeta + 1)/zeta)**n/(zeta**2*((zeta - 1)/zeta)**(2*n) - 2*zeta**2*((zeta - 1)/zeta)**n*((zeta + 1)/zeta)**n + zeta**2*((zeta + 1)/zeta)**(2*n) - ((zeta - 1)/zeta)**(2*n) + 2*((zeta - 1)/zeta)**n*((zeta + 1)/zeta)**n - ((zeta + 1)/zeta)**(2*n))\""
      ]
     },
     "execution_count": 11,
     "metadata": {},
     "output_type": "execute_result"
    }
   ],
   "source": [
    "sympy.python(dz)"
   ]
  },
  {
   "cell_type": "code",
   "execution_count": null,
   "metadata": {
    "collapsed": true
   },
   "outputs": [],
   "source": []
  }
 ],
 "metadata": {
  "kernelspec": {
   "display_name": "Python [conda env:py36]",
   "language": "python",
   "name": "conda-env-py36-py"
  },
  "language_info": {
   "codemirror_mode": {
    "name": "ipython",
    "version": 3
   },
   "file_extension": ".py",
   "mimetype": "text/x-python",
   "name": "python",
   "nbconvert_exporter": "python",
   "pygments_lexer": "ipython3",
   "version": "3.6.3"
  }
 },
 "nbformat": 4,
 "nbformat_minor": 1
}
